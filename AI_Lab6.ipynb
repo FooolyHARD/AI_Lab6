{
  "nbformat": 4,
  "nbformat_minor": 0,
  "metadata": {
    "colab": {
      "provenance": [],
      "authorship_tag": "ABX9TyPyFR7lccS2q999C6FJM+ZA",
      "include_colab_link": true
    },
    "kernelspec": {
      "name": "python3",
      "display_name": "Python 3"
    },
    "language_info": {
      "name": "python"
    }
  },
  "cells": [
    {
      "cell_type": "markdown",
      "metadata": {
        "id": "view-in-github",
        "colab_type": "text"
      },
      "source": [
        "<a href=\"https://colab.research.google.com/github/FooolyHARD/AI_Lab6/blob/main/AI_Lab6.ipynb\" target=\"_parent\"><img src=\"https://colab.research.google.com/assets/colab-badge.svg\" alt=\"Open In Colab\"/></a>"
      ]
    },
    {
      "cell_type": "code",
      "execution_count": 25,
      "metadata": {
        "colab": {
          "base_uri": "https://localhost:8080/"
        },
        "id": "RS8vYcuUke51",
        "outputId": "70688465-7b04-4955-a2f9-23a11adc4c6b"
      },
      "outputs": [
        {
          "output_type": "stream",
          "name": "stdout",
          "text": [
            "     STUDENT ID  1  2  3  4  5  6  7  8  9  ...  24  25  26  27  28  29  30  \\\n",
            "0      STUDENT1  2  2  3  3  1  2  2  1  1  ...   1   3   2   1   2   1   1   \n",
            "1      STUDENT2  2  2  3  3  1  2  2  1  1  ...   1   3   2   3   2   2   3   \n",
            "2      STUDENT3  2  2  2  3  2  2  2  2  4  ...   1   2   2   1   1   2   2   \n",
            "3      STUDENT4  1  1  1  3  1  2  1  2  1  ...   2   3   2   2   1   3   2   \n",
            "4      STUDENT5  2  2  1  3  2  2  1  3  1  ...   1   2   2   2   1   2   2   \n",
            "..          ... .. .. .. .. .. .. .. .. ..  ...  ..  ..  ..  ..  ..  ..  ..   \n",
            "140  STUDENT141  2  1  2  3  1  1  2  1  1  ...   1   2   1   2   1   3   3   \n",
            "141  STUDENT142  1  1  2  4  2  2  2  1  4  ...   1   3   2   2   1   5   3   \n",
            "142  STUDENT143  1  1  1  4  2  2  2  1  1  ...   1   3   3   2   1   4   3   \n",
            "143  STUDENT144  2  1  2  4  1  1  1  5  2  ...   1   2   1   2   1   5   3   \n",
            "144  STUDENT145  1  1  1  5  2  2  2  3  1  ...   1   3   2   3   1   5   4   \n",
            "\n",
            "     COURSE ID  GRADE  SUCCESSFUL  \n",
            "0            1      1           0  \n",
            "1            1      1           0  \n",
            "2            1      1           0  \n",
            "3            1      1           0  \n",
            "4            1      1           0  \n",
            "..         ...    ...         ...  \n",
            "140          9      5           1  \n",
            "141          9      5           1  \n",
            "142          9      1           0  \n",
            "143          9      4           1  \n",
            "144          9      3           1  \n",
            "\n",
            "[145 rows x 34 columns]\n"
          ]
        }
      ],
      "source": [
        "import pandas as pd\n",
        "import numpy as np\n",
        "\n",
        "# Загрузка данных из файла\n",
        "df = pd.read_csv('sample_data/DATA (1).csv')\n",
        "\n",
        "# Определяем порог для успешности\n",
        "threshold = 2  # Предположим, что 2 и выше считается успешным\n",
        "\n",
        "# Создаем новый столбец 'SUCCESSFUL', где 1 - успешный, 0 - неуспешный\n",
        "df['SUCCESSFUL'] = df['GRADE'].apply(lambda x: 1 if x >= threshold else 0)\n",
        "\n",
        "print(df)\n",
        "\n"
      ]
    },
    {
      "cell_type": "code",
      "source": [
        "import random\n",
        "\n",
        "# Получаем список признаков (кроме 'STUDENT ID' и 'GRADE')\n",
        "features = df.columns[1:-1].tolist()\n",
        "\n",
        "# Определяем количество случайных признаков (sqrt(n))\n",
        "num_features = int(len(features) ** 0.5)\n",
        "\n",
        "# Выбираем случайные признаки\n",
        "random_features = random.sample(features, num_features)\n",
        "\n",
        "print(\"Случайные признаки:\", random_features)\n"
      ],
      "metadata": {
        "colab": {
          "base_uri": "https://localhost:8080/"
        },
        "id": "tJAmOIXqm8pZ",
        "outputId": "a102edc0-439e-4e24-a4d4-74751bf3de2e"
      },
      "execution_count": 26,
      "outputs": [
        {
          "output_type": "stream",
          "name": "stdout",
          "text": [
            "Случайные признаки: ['2', '12', '3', '22', '8']\n"
          ]
        }
      ]
    },
    {
      "cell_type": "code",
      "source": [
        "class TreeNode:\n",
        "    def __init__(self, feature=None, threshold=None, left=None, right=None, value=None):\n",
        "        self.feature = feature  # Индекс признака\n",
        "        self.threshold = threshold  # Пороговое значение для деления\n",
        "        self.left = left  # Левое поддерево\n",
        "        self.right = right  # Правое поддерево\n",
        "        self.value = value  # Значение (для листового узла)\n",
        "\n",
        "def build_decision_tree(data, features):\n",
        "    # Рекурсивная функция построения дерева\n",
        "    if len(set(data['SUCCESSFUL'])) == 1:\n",
        "        # Если все значения одинаковы, создаем листовой узел\n",
        "        return TreeNode(value=data['SUCCESSFUL'].iloc[0])\n",
        "\n",
        "    if not features:\n",
        "        # Если закончились признаки, создаем листовой узел с наиболее часто встречающимся значением\n",
        "        return TreeNode(value=data['SUCCESSFUL'].mode().iloc[0])\n",
        "\n",
        "    # Выбираем лучший признак и порог для деления\n",
        "    best_feature, best_threshold = find_best_split(data, features)\n",
        "\n",
        "    # Делим данные на две части\n",
        "    left_data = data[data[best_feature] <= best_threshold]\n",
        "    right_data = data[data[best_feature] > best_threshold]\n",
        "\n",
        "    # Рекурсивно строим левое и правое поддерево\n",
        "    left_tree = build_decision_tree(left_data, features)\n",
        "    right_tree = build_decision_tree(right_data, features)\n",
        "\n",
        "    # Возвращаем узел с информацией о разделении\n",
        "    return TreeNode(feature=best_feature, threshold=best_threshold, left=left_tree, right=right_tree)\n",
        "\n",
        "def find_best_split(data, features):\n",
        "    # Выбираем признак и порог, минимизирующие индекс Джини\n",
        "    best_feature = None\n",
        "    best_threshold = None\n",
        "    best_gini = float('inf')\n",
        "\n",
        "    for feature in features:\n",
        "        thresholds = sorted(set(data[feature]))\n",
        "        for threshold in thresholds:\n",
        "            left_data = data[data[feature] <= threshold]\n",
        "            right_data = data[data[feature] > threshold]\n",
        "\n",
        "            gini = calculate_gini(left_data['SUCCESSFUL'], right_data['SUCCESSFUL'])\n",
        "\n",
        "            if gini < best_gini:\n",
        "                best_gini = gini\n",
        "                best_feature = feature\n",
        "                best_threshold = threshold\n",
        "\n",
        "    return best_feature, best_threshold\n",
        "\n",
        "def calculate_gini(left_values, right_values):\n",
        "    # Вычисляем индекс Джини\n",
        "    left_size = len(left_values)\n",
        "    right_size = len(right_values)\n",
        "    total_size = left_size + right_size\n",
        "\n",
        "    gini_left = 1 - sum((left_values.value_counts() / left_size) ** 2)\n",
        "    gini_right = 1 - sum((right_values.value_counts() / right_size) ** 2)\n",
        "\n",
        "    gini = (left_size / total_size) * gini_left + (right_size / total_size) * gini_right\n",
        "\n",
        "    return gini\n",
        "\n",
        "# Пример использования\n",
        "tree = build_decision_tree(df.drop('STUDENT ID', axis=1), ['1', '2', '3', 'SUCCESSFUL'])\n",
        "\n",
        "\n",
        "\n",
        "def predict(tree, sample):\n",
        "    # Рекурсивная функция для прогнозирования успешности\n",
        "    if tree.value is not None:\n",
        "        return tree.value\n",
        "\n",
        "    if sample[tree.feature] <= tree.threshold:\n",
        "        return predict(tree.left, sample)\n",
        "    else:\n",
        "        return predict(tree.right, sample)\n",
        "\n",
        "# Пример использования для прогнозирования успешности на тестовых данных\n",
        "test_data = {\n",
        "    '1': [1, 2, 2, 1, 3, 3, 1, 2, 2, 3, 1],\n",
        "    '2': [2, 3, 2, 1, 3, 2, 1, 2, 3, 2, 1],\n",
        "    '3': [3, 2, 2, 1, 1, 3, 2, 2, 1, 1, 1],\n",
        "    'SUCCESSFUL': [1, 0, 1, 0, 1, 0, 0, 1, 1, 1, 0]  # Примеры успешности для тестирования\n",
        "}\n",
        "\n",
        "test_df = pd.DataFrame(test_data)\n",
        "\n",
        "# Прогнозируем успешность\n",
        "predictions = test_df.apply(lambda row: predict(tree, row), axis=1)\n",
        "\n",
        "# Добавляем прогнозы к тестовым данным\n",
        "test_df['PREDICTION'] = predictions\n",
        "\n",
        "print(test_df)\n",
        "\n",
        "\n"
      ],
      "metadata": {
        "id": "5FzrAaznnksk",
        "colab": {
          "base_uri": "https://localhost:8080/"
        },
        "outputId": "07f6bbce-6e96-4010-c86f-ef98802df536"
      },
      "execution_count": 51,
      "outputs": [
        {
          "output_type": "stream",
          "name": "stdout",
          "text": [
            "    1  2  3  SUCCESSFUL  PREDICTION\n",
            "0   1  2  3           1           1\n",
            "1   2  3  2           0           0\n",
            "2   2  2  2           1           1\n",
            "3   1  1  1           0           0\n",
            "4   3  3  1           1           1\n",
            "5   3  2  3           0           0\n",
            "6   1  1  2           0           0\n",
            "7   2  2  2           1           1\n",
            "8   2  3  1           1           1\n",
            "9   3  2  1           1           1\n",
            "10  1  1  1           0           0\n"
          ]
        }
      ]
    },
    {
      "cell_type": "code",
      "source": [
        "# Функция для вычисления Accuracy\n",
        "def accuracy(y_true, y_pred):\n",
        "    correct_predictions = sum(1 for true, pred in zip(y_true, y_pred) if true == pred)\n",
        "    total_samples = len(y_true)\n",
        "    return correct_predictions / total_samples\n",
        "\n",
        "# Функция для вычисления Precision\n",
        "def precision(y_true, y_pred):\n",
        "    true_positives = sum(1 for true, pred in zip(y_true, y_pred) if true == 1 and pred == 1)\n",
        "    predicted_positives = sum(1 for pred in y_pred if pred == 1)\n",
        "    return true_positives / predicted_positives if predicted_positives > 0 else 0\n",
        "\n",
        "# Функция для вычисления Recall\n",
        "def recall(y_true, y_pred):\n",
        "    true_positives = sum(1 for true, pred in zip(y_true, y_pred) if true == 1 and pred == 1)\n",
        "    actual_positives = sum(1 for true in y_true if true == 1)\n",
        "    return true_positives / actual_positives if actual_positives > 0 else 0\n",
        "\n",
        "# Пример использования\n",
        "y_true = test_df['SUCCESSFUL'].tolist()\n",
        "y_pred = test_df['PREDICTION'].tolist()\n",
        "\n",
        "# Вычисление метрик\n",
        "acc = accuracy(y_true, y_pred)\n",
        "prec = precision(y_true, y_pred)\n",
        "rec = recall(y_true, y_pred)\n",
        "\n",
        "# Вывод результатов\n",
        "print(\"Accuracy:\", acc)\n",
        "print(\"Precision:\", prec)\n",
        "print(\"Recall:\", rec)\n"
      ],
      "metadata": {
        "id": "YRKuryqAui-z",
        "outputId": "99f528c1-934f-46be-9273-42f3f657c993",
        "colab": {
          "base_uri": "https://localhost:8080/"
        }
      },
      "execution_count": 52,
      "outputs": [
        {
          "output_type": "stream",
          "name": "stdout",
          "text": [
            "Accuracy: 1.0\n",
            "Precision: 1.0\n",
            "Recall: 1.0\n"
          ]
        }
      ]
    },
    {
      "cell_type": "code",
      "source": [
        "import matplotlib.pyplot as plt\n",
        "\n",
        "# Функция для вычисления TPR и FPR\n",
        "def calculate_tpr_fpr(y_true, y_scores, threshold):\n",
        "    y_pred = [1 if score >= threshold else 0 for score in y_scores]\n",
        "\n",
        "    true_positives = sum(1 for true, pred in zip(y_true, y_pred) if true == 1 and pred == 1)\n",
        "    false_positives = sum(1 for true, pred in zip(y_true, y_pred) if true == 0 and pred == 1)\n",
        "    true_negatives = sum(1 for true, pred in zip(y_true, y_pred) if true == 0 and pred == 0)\n",
        "    false_negatives = sum(1 for true, pred in zip(y_true, y_pred) if true == 1 and pred == 0)\n",
        "\n",
        "    tpr = true_positives / (true_positives + false_negatives) if (true_positives + false_negatives) > 0 else 0\n",
        "    fpr = false_positives / (false_positives + true_negatives) if (false_positives + true_negatives) > 0 else 0\n",
        "\n",
        "    return tpr, fpr\n",
        "\n",
        "# Функция для вычисления Precision и Recall\n",
        "def calculate_precision_recall(y_true, y_scores, threshold):\n",
        "    y_pred = [1 if score >= threshold else 0 for score in y_scores]\n",
        "\n",
        "    true_positives = sum(1 for true, pred in zip(y_true, y_pred) if true == 1 and pred == 1)\n",
        "    false_positives = sum(1 for true, pred in zip(y_true, y_pred) if true == 0 and pred == 1)\n",
        "    false_negatives = sum(1 for true, pred in zip(y_true, y_pred) if true == 1 and pred == 0)\n",
        "\n",
        "    precision = true_positives / (true_positives + false_positives) if (true_positives + false_positives) > 0 else 0\n",
        "    recall = true_positives / (true_positives + false_negatives) if (true_positives + false_negatives) > 0 else 0\n",
        "\n",
        "    return precision, recall\n",
        "\n",
        "# Пример данных\n",
        "y_true = [1, 0, 1, 0, 1, 0, 0, 1, 1, 1, 0]  # Пример фактических значений\n",
        "y_scores = [0.8, 0.2, 0.6, 0.1, 0.9, 0.3, 0.4, 0.7, 0.95, 0.8, 0.1]  # Пример вероятностей\n",
        "\n",
        "# Генерация пороговых значений\n",
        "thresholds = sorted(set(y_scores))\n",
        "\n",
        "# Инициализация списков для хранения значений TPR, FPR, Precision и Recall\n",
        "tprs = []\n",
        "fprs = []\n",
        "precisions = []\n",
        "recalls = []\n",
        "\n",
        "# Вычисление TPR, FPR, Precision и Recall для каждого порога\n",
        "for threshold in thresholds:\n",
        "    tpr, fpr = calculate_tpr_fpr(y_true, y_scores, threshold)\n",
        "    precision, recall = calculate_precision_recall(y_true, y_scores, threshold)\n",
        "\n",
        "    tprs.append(tpr)\n",
        "    fprs.append(fpr)\n",
        "    precisions.append(precision)\n",
        "    recalls.append(recall)\n",
        "\n",
        "# Построение кривой AUC-ROC\n",
        "plt.figure(figsize=(8, 6))\n",
        "plt.plot(fprs, tprs, label='AUC-ROC Curve')\n",
        "plt.xlabel('False Positive Rate (FPR)')\n",
        "plt.ylabel('True Positive Rate (TPR)')\n",
        "plt.title('AUC-ROC Curve')\n",
        "plt.legend()\n",
        "plt.grid(True)\n",
        "plt.show()\n",
        "\n",
        "# Построение кривой AUC-PR\n",
        "plt.figure(figsize=(8, 6))\n",
        "plt.plot(recalls, precisions, label='AUC-PR Curve')\n",
        "plt.xlabel('Recall')\n",
        "plt.ylabel('Precision')\n",
        "plt.title('AUC-PR Curve')\n",
        "plt.legend()\n",
        "plt.grid(True)\n",
        "plt.show()\n"
      ],
      "metadata": {
        "id": "Cwmj2Nlt47pb",
        "outputId": "5044d547-6f80-44f3-90ad-5bbdcc15332b",
        "colab": {
          "base_uri": "https://localhost:8080/",
          "height": 1000
        }
      },
      "execution_count": 54,
      "outputs": [
        {
          "output_type": "display_data",
          "data": {
            "text/plain": [
              "<Figure size 800x600 with 1 Axes>"
            ],
            "image/png": "[encoded data removed]"
          },
          "metadata": {}
        },
        {
          "output_type": "display_data",
          "data": {
            "text/plain": [
              "<Figure size 800x600 with 1 Axes>"
            ],
            "image/png": "[encoded data removed]"
          },
          "metadata": {}
        }
      ]
    }
  ]
}